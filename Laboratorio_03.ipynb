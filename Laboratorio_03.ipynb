{
  "nbformat": 4,
  "nbformat_minor": 0,
  "metadata": {
    "colab": {
      "provenance": [],
      "authorship_tag": "ABX9TyPVBGgAVBZa2omm1RsDQhHl",
      "include_colab_link": true
    },
    "kernelspec": {
      "name": "python3",
      "display_name": "Python 3"
    },
    "language_info": {
      "name": "python"
    }
  },
  "cells": [
    {
      "cell_type": "markdown",
      "metadata": {
        "id": "view-in-github",
        "colab_type": "text"
      },
      "source": [
        "<a href=\"https://colab.research.google.com/github/juandlopezm/Analisis_datos_lab3/blob/main/Laboratorio_03.ipynb\" target=\"_parent\"><img src=\"https://colab.research.google.com/assets/colab-badge.svg\" alt=\"Open In Colab\"/></a>"
      ]
    },
    {
      "cell_type": "markdown",
      "source": [
        "# **Introducción**\n",
        "La calidad de los datos es fundamental para garantizar resultados confiables en el análisis. Este laboratorio abordará las principales técnicas de aseguramiento y limpieza de datos usando Python. Trabajaremos con un conjunto de datos con errores comunes para identificar problemas y aplicar soluciones prácticas utilizando librerías como Pandas.\n"
      ],
      "metadata": {
        "id": "vu3QICCl0pcX"
      }
    },
    {
      "cell_type": "markdown",
      "source": [
        "**Parte 1: Identificación de Problemas en los Datos**"
      ],
      "metadata": {
        "id": "s1ejaRoI01HF"
      }
    },
    {
      "cell_type": "code",
      "source": [
        "import pandas as pd\n",
        "data=pd.read_csv('CSV Laboratorio 3 AD-B.csv')"
      ],
      "metadata": {
        "id": "J9XJiC2U00Gk"
      },
      "execution_count": 36,
      "outputs": []
    },
    {
      "cell_type": "code",
      "source": [
        "print(data.head(10)) # numero de filas x columna"
      ],
      "metadata": {
        "colab": {
          "base_uri": "https://localhost:8080/"
        },
        "id": "2O7H_vCy5B5x",
        "outputId": "0e11f001-ca95-4138-d5cb-7a9536ad8816"
      },
      "execution_count": 37,
      "outputs": [
        {
          "output_type": "stream",
          "name": "stdout",
          "text": [
            "   ID     Name    Category         City  Value        Date\n",
            "0   1  Charlie       Cat C      Chicago   46.0   4/13/2023\n",
            "1   2     Jane       Cat C      Houston   53.0  12/15/2023\n",
            "2   3     Jane  category a      Chicago   68.0   9/28/2023\n",
            "3   4     John         NaN     New York   97.0   4/17/2023\n",
            "4   5     Jane       Cat C      Houston   71.0   3/13/2023\n",
            "5   6      Eve  category a  Los Angeles   61.0    7/8/2023\n",
            "6   7     Jane  Category A      Chicago   48.0   1/21/2023\n",
            "7   8      Bob  CATEGORY B     New York   65.0   4/13/2023\n",
            "8   9      Bob  CATEGORY B  Los Angeles    NaN    5/2/2023\n",
            "9  10     Dave  CATEGORY B  Los Angeles   11.0    8/3/2023\n"
          ]
        }
      ]
    },
    {
      "cell_type": "code",
      "source": [
        "print(data['City'].count())"
      ],
      "metadata": {
        "colab": {
          "base_uri": "https://localhost:8080/"
        },
        "id": "nKf4B_8I2a08",
        "outputId": "5d5222bc-04f9-4b59-c22b-9ad3efdf9283"
      },
      "execution_count": 6,
      "outputs": [
        {
          "output_type": "stream",
          "name": "stdout",
          "text": [
            "45\n"
          ]
        }
      ]
    },
    {
      "cell_type": "code",
      "source": [
        "print(data['City'].isnull())"
      ],
      "metadata": {
        "colab": {
          "base_uri": "https://localhost:8080/"
        },
        "collapsed": true,
        "id": "m-Y5N8Wx4wio",
        "outputId": "4276e5b9-9f3e-4f84-e80b-ce6ecab15ae5"
      },
      "execution_count": 14,
      "outputs": [
        {
          "output_type": "stream",
          "name": "stdout",
          "text": [
            "0     False\n",
            "1     False\n",
            "2     False\n",
            "3     False\n",
            "4     False\n",
            "5     False\n",
            "6     False\n",
            "7     False\n",
            "8     False\n",
            "9     False\n",
            "10     True\n",
            "11    False\n",
            "12    False\n",
            "13    False\n",
            "14     True\n",
            "15    False\n",
            "16     True\n",
            "17    False\n",
            "18    False\n",
            "19    False\n",
            "20    False\n",
            "21     True\n",
            "22    False\n",
            "23    False\n",
            "24    False\n",
            "25     True\n",
            "26    False\n",
            "27    False\n",
            "28    False\n",
            "29    False\n",
            "30    False\n",
            "31     True\n",
            "32     True\n",
            "33     True\n",
            "34     True\n",
            "35     True\n",
            "36    False\n",
            "37    False\n",
            "38     True\n",
            "39    False\n",
            "40    False\n",
            "41    False\n",
            "42    False\n",
            "43    False\n",
            "44    False\n",
            "45     True\n",
            "46    False\n",
            "47    False\n",
            "48    False\n",
            "49    False\n",
            "50    False\n",
            "51    False\n",
            "52    False\n",
            "53     True\n",
            "54    False\n",
            "55    False\n",
            "56    False\n",
            "57     True\n",
            "58     True\n",
            "59    False\n",
            "Name: City, dtype: bool\n"
          ]
        }
      ]
    },
    {
      "cell_type": "code",
      "source": [
        "print(data['City'].isnull().sum()) # tenemos 15 datos nulos"
      ],
      "metadata": {
        "colab": {
          "base_uri": "https://localhost:8080/"
        },
        "id": "hdOyK9yD6Lth",
        "outputId": "173d61ae-068b-4ba2-f8bf-778a7e2ebbfa"
      },
      "execution_count": 15,
      "outputs": [
        {
          "output_type": "stream",
          "name": "stdout",
          "text": [
            "15\n"
          ]
        }
      ]
    },
    {
      "cell_type": "code",
      "source": [
        "print(data['City'].duplicated().sum()) # 55 datos duplicados"
      ],
      "metadata": {
        "colab": {
          "base_uri": "https://localhost:8080/"
        },
        "id": "9GU1eNw36fmr",
        "outputId": "f0c39654-1a56-428e-fb2a-523ca0c09eb2"
      },
      "execution_count": 20,
      "outputs": [
        {
          "output_type": "stream",
          "name": "stdout",
          "text": [
            "55\n"
          ]
        }
      ]
    },
    {
      "cell_type": "code",
      "source": [
        "print(data['City'].value_counts())"
      ],
      "metadata": {
        "colab": {
          "base_uri": "https://localhost:8080/"
        },
        "id": "qV9eW2IG7EHZ",
        "outputId": "987493ed-b1ca-40d4-ec27-29851e5ec6e1"
      },
      "execution_count": 22,
      "outputs": [
        {
          "output_type": "stream",
          "name": "stdout",
          "text": [
            "City\n",
            "Chicago        13\n",
            "Houston        13\n",
            "New York       12\n",
            "Los Angeles     7\n",
            "Name: count, dtype: int64\n"
          ]
        }
      ]
    },
    {
      "cell_type": "markdown",
      "source": [
        "**Parte 2: Limpieza de Datos con Python**"
      ],
      "metadata": {
        "id": "vD_YP4F_8OPY"
      }
    },
    {
      "cell_type": "code",
      "source": [
        "print(data.duplicated())"
      ],
      "metadata": {
        "colab": {
          "base_uri": "https://localhost:8080/"
        },
        "collapsed": true,
        "id": "A0ZwEBqZ8QCi",
        "outputId": "6e9814cb-574e-40d7-995c-b1acd0a6702c"
      },
      "execution_count": 26,
      "outputs": [
        {
          "output_type": "stream",
          "name": "stdout",
          "text": [
            "0     False\n",
            "1     False\n",
            "2     False\n",
            "3     False\n",
            "4     False\n",
            "5     False\n",
            "6     False\n",
            "7     False\n",
            "8     False\n",
            "9     False\n",
            "10    False\n",
            "11    False\n",
            "12    False\n",
            "13    False\n",
            "14    False\n",
            "15    False\n",
            "16    False\n",
            "17    False\n",
            "18    False\n",
            "19    False\n",
            "20    False\n",
            "21    False\n",
            "22    False\n",
            "23    False\n",
            "24    False\n",
            "25    False\n",
            "26    False\n",
            "27    False\n",
            "28    False\n",
            "29    False\n",
            "30    False\n",
            "31    False\n",
            "32    False\n",
            "33    False\n",
            "34    False\n",
            "35    False\n",
            "36    False\n",
            "37    False\n",
            "38    False\n",
            "39    False\n",
            "40    False\n",
            "41    False\n",
            "42    False\n",
            "43    False\n",
            "44    False\n",
            "45    False\n",
            "46    False\n",
            "47    False\n",
            "48    False\n",
            "49    False\n",
            "50     True\n",
            "51     True\n",
            "52     True\n",
            "53     True\n",
            "54     True\n",
            "55     True\n",
            "56     True\n",
            "57     True\n",
            "58     True\n",
            "59     True\n",
            "dtype: bool\n"
          ]
        }
      ]
    },
    {
      "cell_type": "code",
      "source": [
        "data=data.drop_duplicates() # Eliminar duplicados\n",
        "data=data.dropna() # Eliminar Datos nulos/vacios\n",
        "print(data.duplicated().sum()) # revisar"
      ],
      "metadata": {
        "colab": {
          "base_uri": "https://localhost:8080/"
        },
        "id": "f9gjkVU5_lIw",
        "outputId": "03cca5cc-6b73-4c75-8d3f-22fca32bf01f"
      },
      "execution_count": 27,
      "outputs": [
        {
          "output_type": "stream",
          "name": "stdout",
          "text": [
            "0\n"
          ]
        }
      ]
    },
    {
      "cell_type": "code",
      "source": [
        "data['City'] = data['City'].str.upper() # colocar todo los datos en mayuscula"
      ],
      "metadata": {
        "id": "y-7I_n55_6Lo"
      },
      "execution_count": 29,
      "outputs": []
    },
    {
      "cell_type": "code",
      "source": [
        "# Estandarizar formato de Category\n",
        "data['Category'] = data['Category'].str.capitalize()\n",
        "# Cambiar Car c por Category C\n",
        "data['Category'] = data['Category'].str.replace('Cat c', 'Category c')\n",
        "\n",
        "data['Category'] = data['Category'].str.replace('Cat-c', 'Category c')"
      ],
      "metadata": {
        "id": "r3hcnAZ6AMwb"
      },
      "execution_count": 31,
      "outputs": []
    },
    {
      "cell_type": "code",
      "source": [
        "# Normalizar formato fechas\n",
        "data['Date'] = pd.to_datetime(data['Date'])"
      ],
      "metadata": {
        "id": "npbM-PsNBaEw"
      },
      "execution_count": 32,
      "outputs": []
    },
    {
      "cell_type": "code",
      "source": [
        "print(data.head(10))"
      ],
      "metadata": {
        "colab": {
          "base_uri": "https://localhost:8080/"
        },
        "id": "XDv4vyUGBct7",
        "outputId": "679675fd-e6ca-4b74-8380-2417709c74e4"
      },
      "execution_count": 33,
      "outputs": [
        {
          "output_type": "stream",
          "name": "stdout",
          "text": [
            "    ID     Name    Category         City  Value       Date\n",
            "0    1  Charlie  Category c      CHICAGO   46.0 2023-04-13\n",
            "1    2     Jane  Category c      HOUSTON   53.0 2023-12-15\n",
            "2    3     Jane  Category a      CHICAGO   68.0 2023-09-28\n",
            "4    5     Jane  Category c      HOUSTON   71.0 2023-03-13\n",
            "5    6      Eve  Category a  LOS ANGELES   61.0 2023-07-08\n",
            "6    7     Jane  Category a      CHICAGO   48.0 2023-01-21\n",
            "7    8      Bob  Category b     NEW YORK   65.0 2023-04-13\n",
            "9   10     Dave  Category b  LOS ANGELES   11.0 2023-08-03\n",
            "11  12     Dave  Category a      HOUSTON   10.0 2023-03-29\n",
            "12  13      Bob  Category c      CHICAGO   11.0 2023-04-10\n"
          ]
        }
      ]
    },
    {
      "cell_type": "code",
      "source": [],
      "metadata": {
        "id": "LY4SJua0Fnq8"
      },
      "execution_count": null,
      "outputs": []
    },
    {
      "cell_type": "markdown",
      "source": [
        "**GUARDADO**"
      ],
      "metadata": {
        "id": "7S63aFw4FPw4"
      }
    },
    {
      "cell_type": "code",
      "source": [
        "# Guardado\n",
        "ruta_archivo = \"/content/datos_limpios.csv\"\n",
        "# Guardar el archivo en la ruta\n",
        "data.to_csv(ruta_archivo, index=False)\n",
        "\n",
        "print(f\"Archivo CSV guardado en: {ruta_archivo}\")"
      ],
      "metadata": {
        "colab": {
          "base_uri": "https://localhost:8080/"
        },
        "id": "glrvBPuvBj5v",
        "outputId": "f04fc6fb-cf06-4e73-f35d-a26ec3e3aa8f"
      },
      "execution_count": 34,
      "outputs": [
        {
          "output_type": "stream",
          "name": "stdout",
          "text": [
            "Archivo CSV guardado en: /content/datos_limpios.csv\n"
          ]
        }
      ]
    },
    {
      "cell_type": "code",
      "source": [],
      "metadata": {
        "id": "ENNhua_KFl30"
      },
      "execution_count": null,
      "outputs": []
    }
  ]
}